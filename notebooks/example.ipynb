{
 "cells": [
  {
   "cell_type": "markdown",
   "id": "53461740",
   "metadata": {},
   "source": [
    "# Hong Kong Rainfall Data Visualization Demo\n",
    "\n",
    "This notebook demonstrates how to visualize Hong Kong Observatory rainfall data using the RainLife project.\n",
    "\n",
    "The project includes several visualization scripts:\n",
    "- **rainecho.py**: Spiral particle animation (Echoes of Early Rains) \n",
    "- **rainball.py**: Dynamic circle visualization\n",
    "\n",
    "Let's explore the data and create some basic visualizations!"
   ]
  },
  {
   "cell_type": "code",
   "execution_count": 1,
   "id": "26bd2f14",
   "metadata": {},
   "outputs": [
    {
     "name": "stdout",
     "output_type": "stream",
     "text": [
      "Libraries imported successfully!\n"
     ]
    }
   ],
   "source": [
    "# Import required libraries\n",
    "import pandas as pd\n",
    "import matplotlib.pyplot as plt\n",
    "import numpy as np\n",
    "import sys\n",
    "import os\n",
    "\n",
    "# Add src directory to path to import our modules\n",
    "sys.path.append('../src')\n",
    "\n",
    "print(\"Libraries imported successfully!\")"
   ]
  },
  {
   "cell_type": "markdown",
   "id": "5005905c",
   "metadata": {},
   "source": [
    "## 1. Load and Explore the Rainfall Data\n",
    "\n",
    "First, let's load the Hong Kong Observatory rainfall data and examine its structure."
   ]
  },
  {
   "cell_type": "code",
   "execution_count": null,
   "id": "2ac9c0d8",
   "metadata": {},
   "outputs": [],
   "source": [
    "# Load the rainfall data\n",
    "CSV_PATH = \"../daily_HKO_RF_ALL.csv\"\n",
    "\n",
    "# Read the CSV file (skip first 3 rows which contain metadata)\n",
    "df = pd.read_csv(CSV_PATH, header=3,\n",
    "                 names=['Year', 'Month', 'Day', 'Value', 'Data_Completeness'])\n",
    "\n",
    "# Clean the data\n",
    "df['Value'] = pd.to_numeric(df['Value'], errors='coerce').fillna(0)\n",
    "\n",
    "# Display basic information\n",
    "print(f\"Dataset shape: {df.shape}\")\n",
    "print(f\"Date range: {df['Year'].min()}-{df['Year'].max()}\")\n",
    "print(\"\\nFirst few rows:\")\n",
    "print(df.head())"
   ]
  },
  {
   "cell_type": "markdown",
   "id": "916b25c6",
   "metadata": {},
   "source": [
    "## 2. Monthly Rainfall Analysis\n",
    "\n",
    "Let's aggregate the daily data into monthly totals and create some basic visualizations."
   ]
  },
  {
   "cell_type": "code",
   "execution_count": null,
   "id": "7b7d0ac9",
   "metadata": {},
   "outputs": [],
   "source": [
    "# Calculate monthly rainfall totals\n",
    "monthly_df = df.groupby(['Year', 'Month'], as_index=False)['Value'].sum()\n",
    "monthly_df.rename(columns={'Value': 'Monthly_Rainfall'}, inplace=True)\n",
    "\n",
    "print(f\"Monthly data shape: {monthly_df.shape}\")\n",
    "print(\"\\nFirst 24 months (1884-1885):\")\n",
    "print(monthly_df.head(24))\n",
    "\n",
    "# Basic statistics\n",
    "print(f\"\\nRainfall Statistics:\")\n",
    "print(f\"Mean monthly rainfall: {monthly_df['Monthly_Rainfall'].mean():.1f} mm\")\n",
    "print(f\"Max monthly rainfall: {monthly_df['Monthly_Rainfall'].max():.1f} mm\") \n",
    "print(f\"Min monthly rainfall: {monthly_df['Monthly_Rainfall'].min():.1f} mm\")"
   ]
  },
  {
   "cell_type": "code",
   "execution_count": null,
   "id": "3d5c0ded",
   "metadata": {},
   "outputs": [],
   "source": [
    "# Create a simple time series plot of the first 24 months\n",
    "plt.figure(figsize=(12, 6))\n",
    "first_24 = monthly_df.head(24)\n",
    "months = range(1, 25)\n",
    "\n",
    "plt.plot(months, first_24['Monthly_Rainfall'], 'o-', linewidth=2, markersize=6)\n",
    "plt.title('Hong Kong Monthly Rainfall (1884-1885)\\nThe First Two Years of HKO Records', fontsize=14, pad=20)\n",
    "plt.xlabel('Month (Sequential)', fontsize=12)\n",
    "plt.ylabel('Monthly Rainfall (mm)', fontsize=12)\n",
    "plt.grid(True, alpha=0.3)\n",
    "\n",
    "# Add month labels\n",
    "month_labels = [f\"{int(row['Year'])}-{int(row['Month']):02d}\" \n",
    "               for _, row in first_24.iterrows()]\n",
    "plt.xticks(months[::3], month_labels[::3], rotation=45)\n",
    "\n",
    "plt.tight_layout()\n",
    "plt.show()"
   ]
  },
  {
   "cell_type": "markdown",
   "id": "6f7ad8b9",
   "metadata": {},
   "source": [
    "## 3. Running the Advanced Visualizations\n",
    "\n",
    "The RainLife project includes three main visualization scripts in the `src/` directory. Here's how to run them:\n",
    "\n",
    "### Available Scripts:\n",
    "1. **`rain5.py`** - \"Echoes of Early Rains\" spiral particle animation\n",
    "2. **`visualization.py`** - Times table circle mapping with dynamic colors\n",
    "3. **`rainball.py`** - Dynamic circle visualization (alternative version)\n",
    "\n",
    "### Running the Scripts:\n",
    "You can run these scripts directly from the command line or import their functions here."
   ]
  },
  {
   "cell_type": "code",
   "execution_count": null,
   "id": "e529524f",
   "metadata": {},
   "outputs": [],
   "source": [
    "# Example: Run the rain5.py script programmatically\n",
    "# Note: This will open a new window with the animation\n",
    "\n",
    "import subprocess\n",
    "import sys\n",
    "\n",
    "print(\"To run the visualizations, use these commands in your terminal:\")\n",
    "print()\n",
    "print(\"1. Spiral Particle Animation (rain5.py):\")\n",
    "print(\"   python ../src/rain5.py\")\n",
    "print()\n",
    "print(\"2. Times Table Circle (visualization.py):\")\n",
    "print(\"   python ../src/visualization.py\") \n",
    "print()\n",
    "print(\"3. Dynamic Circle (rainball.py):\")\n",
    "print(\"   python ../src/rainball.py\")\n",
    "print()\n",
    "print(\"Each script will open an interactive matplotlib window with the animation.\")"
   ]
  },
  {
   "cell_type": "markdown",
   "id": "b2b2c412",
   "metadata": {},
   "source": [
    "## 4. Understanding the Visualization Logic\n",
    "\n",
    "The RainLife visualizations use rainfall intensity to drive various visual effects:\n",
    "\n",
    "### Color Mapping System:\n",
    "- **Low rainfall (≤50mm)**: White particles/lines\n",
    "- **Medium rainfall (50-300mm)**: Color transitions based on intensity\n",
    "  - Blue branch: White → Blue (cooler tones for gentle rain)  \n",
    "  - Purple-red branch: White → Purple → Red (warmer tones for heavy rain)\n",
    "\n",
    "### Visual Parameters:\n",
    "- **Particle count**: Increases with rainfall intensity (12-50 particles)\n",
    "- **Size scaling**: Larger particles for heavier rainfall\n",
    "- **Animation speed**: Synchronized with monthly data progression\n",
    "\n",
    "This creates an intuitive mapping where gentle rains appear as cool blue tones while intense rainfall manifests as dramatic red colors."
   ]
  }
 ],
 "metadata": {
  "kernelspec": {
   "display_name": ".venv",
   "language": "python",
   "name": "python3"
  },
  "language_info": {
   "codemirror_mode": {
    "name": "ipython",
    "version": 3
   },
   "file_extension": ".py",
   "mimetype": "text/x-python",
   "name": "python",
   "nbconvert_exporter": "python",
   "pygments_lexer": "ipython3",
   "version": "3.11.9"
  }
 },
 "nbformat": 4,
 "nbformat_minor": 5
}
